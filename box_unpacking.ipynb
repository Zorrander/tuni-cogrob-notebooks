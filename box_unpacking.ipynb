{
 "cells": [
  {
   "cell_type": "markdown",
   "metadata": {},
   "source": [
    "# Box unpacking"
   ]
  },
  {
   "cell_type": "markdown",
   "metadata": {},
   "source": [
    "First, initialize the workspace."
   ]
  },
  {
   "cell_type": "code",
   "execution_count": 3,
   "metadata": {},
   "outputs": [
    {
     "data": {
      "text/plain": [
       "get_ontology(\"http://onto-server-tuni.herokuapp.com/Panda#\")"
      ]
     },
     "execution_count": 3,
     "metadata": {},
     "output_type": "execute_result"
    }
   ],
   "source": [
    "from owlready2 import *\n",
    "\n",
    "world = World()\n",
    "world.get_ontology(\"https://onto-server-tuni.herokuapp.com/uploads/models/handover.owl\").load()\n",
    "#world.get_ontology(\"http://127.0.0.1:5000/uploads/models/handover.owl\").load()\n"
   ]
  },
  {
   "cell_type": "markdown",
   "metadata": {},
   "source": [
    "Create an empty box."
   ]
  },
  {
   "cell_type": "code",
   "execution_count": 18,
   "metadata": {},
   "outputs": [
    {
     "name": "stdout",
     "output_type": "stream",
     "text": [
      "handover.box1\n"
     ]
    }
   ],
   "source": [
    "box = world['http://onto-server-tuni.herokuapp.com/Panda#Box']()\n",
    "print(box)"
   ]
  },
  {
   "cell_type": "markdown",
   "metadata": {},
   "source": [
    "Create objects and add them into the box."
   ]
  },
  {
   "cell_type": "code",
   "execution_count": 19,
   "metadata": {},
   "outputs": [],
   "source": [
    "round_peg_1   = world['http://onto-server-tuni.herokuapp.com/Panda#Peg']()\n",
    "round_peg_2   = world['http://onto-server-tuni.herokuapp.com/Panda#Peg']()\n",
    "square_peg_1  = world['http://onto-server-tuni.herokuapp.com/Panda#Peg']()\n",
    "square_peg_2  = world['http://onto-server-tuni.herokuapp.com/Panda#Peg']()\n",
    "shaft         = world['http://onto-server-tuni.herokuapp.com/Panda#Peg']()\n",
    "separator     = world['http://onto-server-tuni.herokuapp.com/Panda#Separator']()\n",
    "pendulum      = world['http://onto-server-tuni.herokuapp.com/Panda#Pendulum']()\n",
    "pendulum_head = world['http://onto-server-tuni.herokuapp.com/Panda#PendulumHead']()\n",
    "faceplate     = world['http://onto-server-tuni.herokuapp.com/Panda#Faceplate']()"
   ]
  },
  {
   "cell_type": "code",
   "execution_count": 20,
   "metadata": {},
   "outputs": [
    {
     "name": "stdout",
     "output_type": "stream",
     "text": [
      "[handover.faceplate1, handover.peg1, handover.peg2, handover.peg3, handover.peg4, handover.peg5, handover.pendulum1, handover.pendulumhead1, handover.separator1, handover.box1]\n"
     ]
    }
   ],
   "source": [
    "objects = world.search(type = world['http://onto-server-tuni.herokuapp.com/Panda#Object'])\n",
    "print(objects)"
   ]
  },
  {
   "cell_type": "code",
   "execution_count": null,
   "metadata": {},
   "outputs": [],
   "source": []
  }
 ],
 "metadata": {
  "kernelspec": {
   "display_name": "Python 3",
   "language": "python",
   "name": "python3"
  },
  "language_info": {
   "codemirror_mode": {
    "name": "ipython",
    "version": 3
   },
   "file_extension": ".py",
   "mimetype": "text/x-python",
   "name": "python",
   "nbconvert_exporter": "python",
   "pygments_lexer": "ipython3",
   "version": "3.6.9"
  }
 },
 "nbformat": 4,
 "nbformat_minor": 4
}
